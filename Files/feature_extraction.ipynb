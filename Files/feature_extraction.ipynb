{
 "cells": [
  {
   "cell_type": "code",
   "execution_count": 27,
   "metadata": {},
   "outputs": [
    {
     "name": "stderr",
     "output_type": "stream",
     "text": [
      "100%|██████████| 856/856 [04:49<00:00,  2.96it/s]\n"
     ]
    }
   ],
   "source": [
    "from transformers import Wav2Vec2Processor, HubertModel\n",
    "import soundfile as sf\n",
    "import torch\n",
    "from tqdm import tqdm\n",
    "import numpy as np\n",
    "\n",
    "# Load the processor and model for Hubert Large\n",
    "processor = Wav2Vec2Processor.from_pretrained(\"facebook/hubert-large-ls960-ft\")\n",
    "model = HubertModel.from_pretrained(\"facebook/hubert-large-ls960-ft\")\n",
    "model.config.output_hidden_states = True\n",
    "\n",
    "target_layer = 3\n",
    "device = torch.device(\"cpu\")\n",
    "model.to(device)\n",
    "\n",
    "file_path = 'path_train.txt'\n",
    "with open(file_path, 'r') as file:\n",
    "    audio_files = [line.strip() for line in file]\n",
    "\n",
    "speaker_ids = []\n",
    "layer_features = []\n",
    "\n",
    "for audio_file in tqdm(audio_files):\n",
    "    speaker_id = audio_file.split('/')[-1].split('-')[0]  # Adjust based on your file path format\n",
    "    speaker_ids.append(speaker_id)\n",
    "    \n",
    "    audio_input, sample_rate = sf.read(audio_file)\n",
    "    \n",
    "    input_values = processor(audio_input, sampling_rate=sample_rate, return_tensors=\"pt\").input_values.to(device)\n",
    "    \n",
    "    with torch.no_grad():\n",
    "        outputs = model(input_values)\n",
    "    \n",
    "    all_hidden_states = outputs.hidden_states\n",
    "    layer_feature = all_hidden_states[target_layer].squeeze(0).cpu().numpy()\n",
    "    \n",
    "    pooled_feature = np.mean(layer_feature, axis=0)\n",
    "    \n",
    "    layer_features.append(pooled_feature)\n",
    "\n",
    "layer_features = np.array(layer_features)\n",
    "speaker_ids = np.array(speaker_ids)\n",
    "# test\n",
    "np.savez(f'chunk/age/hubert_3s_train_{target_layer}.npz', features=layer_features, speaker_ids=speaker_ids)\n"
   ]
  },
  {
   "cell_type": "code",
   "execution_count": 28,
   "metadata": {},
   "outputs": [
    {
     "name": "stderr",
     "output_type": "stream",
     "text": [
      "100%|██████████| 129/129 [00:45<00:00,  2.82it/s]\n"
     ]
    }
   ],
   "source": [
    "from transformers import Wav2Vec2Processor, Wav2Vec2Model\n",
    "import soundfile as sf\n",
    "import torch\n",
    "from tqdm import tqdm\n",
    "import numpy as np\n",
    "\n",
    "# Load the processor and model for Wav2Vec2\n",
    "processor = Wav2Vec2Processor.from_pretrained(\"facebook/wav2vec2-large-960h\")\n",
    "model = Wav2Vec2Model.from_pretrained(\"facebook/wav2vec2-large-960h\")\n",
    "model.config.output_hidden_states = True\n",
    "\n",
    "target_layer = 3\n",
    "device = torch.device(\"cpu\")\n",
    "model.to(device)\n",
    "\n",
    "file_path = 'path_test.txt'\n",
    "with open(file_path, 'r') as file:\n",
    "    audio_files = [line.strip() for line in file]\n",
    "\n",
    "speaker_ids = []\n",
    "layer_features = []\n",
    "\n",
    "for audio_file in tqdm(audio_files):\n",
    "    speaker_id = audio_file.split('/')[-1].split('-')[0]  # Adjust based on your file path format\n",
    "    speaker_ids.append(speaker_id)\n",
    "    \n",
    "    audio_input, sample_rate = sf.read(audio_file)\n",
    "    \n",
    "    input_values = processor(audio_input, sampling_rate=sample_rate, return_tensors=\"pt\").input_values.to(device)\n",
    "    \n",
    "    with torch.no_grad():\n",
    "        outputs = model(input_values)\n",
    "    \n",
    "    all_hidden_states = outputs.hidden_states\n",
    "    layer_feature = all_hidden_states[target_layer].squeeze(0).cpu().numpy()\n",
    "    \n",
    "    pooled_feature = np.mean(layer_feature, axis=0)\n",
    "    \n",
    "    layer_features.append(pooled_feature)\n",
    "\n",
    "layer_features = np.array(layer_features)\n",
    "speaker_ids = np.array(speaker_ids)\n",
    "\n",
    "np.savez(f'chunk/age/hubert_3s_test_{target_layer}.npz', features=layer_features, speaker_ids=speaker_ids)\n"
   ]
  },
  {
   "cell_type": "code",
   "execution_count": 5,
   "metadata": {},
   "outputs": [
    {
     "name": "stderr",
     "output_type": "stream",
     "text": [
      "Some weights of Wav2Vec2Model were not initialized from the model checkpoint at facebook/wav2vec2-large-960h and are newly initialized: ['wav2vec2.masked_spec_embed']\n",
      "You should probably TRAIN this model on a down-stream task to be able to use it for predictions and inference.\n",
      "100%|██████████| 856/856 [04:09<00:00,  3.43it/s]\n"
     ]
    }
   ],
   "source": [
    "from transformers import Wav2Vec2Processor, Wav2Vec2Model\n",
    "import soundfile as sf\n",
    "import torch\n",
    "from tqdm import tqdm\n",
    "import numpy as np\n",
    "\n",
    "# Load the processor and model for Wav2Vec2\n",
    "processor = Wav2Vec2Processor.from_pretrained(\"facebook/wav2vec2-large-960h\")\n",
    "model = Wav2Vec2Model.from_pretrained(\"facebook/wav2vec2-large-960h\")\n",
    "model.config.output_hidden_states = True\n",
    "\n",
    "target_layer = 2\n",
    "device = torch.device(\"cpu\")\n",
    "model.to(device)\n",
    "\n",
    "file_path = 'path_train.txt'\n",
    "with open(file_path, 'r') as file:\n",
    "    audio_files = [line.strip() for line in file]\n",
    "\n",
    "speaker_ids = []\n",
    "layer_features = []\n",
    "\n",
    "for audio_file in tqdm(audio_files):\n",
    "    speaker_id = audio_file.split('/')[-1].split('-')[0]  # Adjust based on your file path format\n",
    "    speaker_ids.append(speaker_id)\n",
    "    \n",
    "    audio_input, sample_rate = sf.read(audio_file)\n",
    "    \n",
    "    input_values = processor(audio_input, sampling_rate=sample_rate, return_tensors=\"pt\").input_values.to(device)\n",
    "    \n",
    "    with torch.no_grad():\n",
    "        outputs = model(input_values)\n",
    "    \n",
    "    all_hidden_states = outputs.hidden_states\n",
    "    layer_feature = all_hidden_states[target_layer].squeeze(0).cpu().numpy()\n",
    "    \n",
    "    pooled_feature = np.mean(layer_feature, axis=0)\n",
    "    \n",
    "    layer_features.append(pooled_feature)\n",
    "\n",
    "layer_features = np.array(layer_features)\n",
    "speaker_ids = np.array(speaker_ids)\n",
    "# test\n",
    "np.savez(f'chunk/gender/wav2vec2_3s_train_{target_layer}.npz', features=layer_features, speaker_ids=speaker_ids)\n"
   ]
  },
  {
   "cell_type": "code",
   "execution_count": 3,
   "metadata": {},
   "outputs": [
    {
     "name": "stderr",
     "output_type": "stream",
     "text": [
      "Some weights of Wav2Vec2Model were not initialized from the model checkpoint at facebook/wav2vec2-large-960h and are newly initialized: ['wav2vec2.masked_spec_embed']\n",
      "You should probably TRAIN this model on a down-stream task to be able to use it for predictions and inference.\n",
      "100%|██████████| 129/129 [00:22<00:00,  5.73it/s]\n"
     ]
    }
   ],
   "source": [
    "from transformers import Wav2Vec2Processor, Wav2Vec2Model\n",
    "import soundfile as sf\n",
    "import torch\n",
    "from tqdm import tqdm\n",
    "import numpy as np\n",
    "\n",
    "# Load the processor and model for Wav2Vec2\n",
    "processor = Wav2Vec2Processor.from_pretrained(\"facebook/wav2vec2-large-960h\")\n",
    "model = Wav2Vec2Model.from_pretrained(\"facebook/wav2vec2-large-960h\")\n",
    "model.config.output_hidden_states = True\n",
    "\n",
    "target_layer = 2\n",
    "device = torch.device(\"cpu\")\n",
    "model.to(device)\n",
    "\n",
    "file_path = 'path_test.txt'\n",
    "with open(file_path, 'r') as file:\n",
    "    audio_files = [line.strip() for line in file]\n",
    "\n",
    "speaker_ids = []\n",
    "layer_features = []\n",
    "\n",
    "for audio_file in tqdm(audio_files):\n",
    "    speaker_id = audio_file.split('/')[-1].split('-')[0]  # Adjust based on your file path format\n",
    "    speaker_ids.append(speaker_id)\n",
    "    \n",
    "    audio_input, sample_rate = sf.read(audio_file)\n",
    "    \n",
    "    input_values = processor(audio_input, sampling_rate=sample_rate, return_tensors=\"pt\").input_values.to(device)\n",
    "    \n",
    "    with torch.no_grad():\n",
    "        outputs = model(input_values)\n",
    "    \n",
    "    all_hidden_states = outputs.hidden_states\n",
    "    layer_feature = all_hidden_states[target_layer].squeeze(0).cpu().numpy()\n",
    "    \n",
    "    pooled_feature = np.mean(layer_feature, axis=0)\n",
    "    \n",
    "    layer_features.append(pooled_feature)\n",
    "\n",
    "layer_features = np.array(layer_features)\n",
    "speaker_ids = np.array(speaker_ids)\n",
    "\n",
    "np.savez(f'chunk/gender/wav2vec2_1s_test_{target_layer}.npz', features=layer_features, speaker_ids=speaker_ids)\n"
   ]
  }
 ],
 "metadata": {
  "kernelspec": {
   "display_name": "Python 3 (ipykernel)",
   "language": "python",
   "name": "python3"
  },
  "language_info": {
   "codemirror_mode": {
    "name": "ipython",
    "version": 3
   },
   "file_extension": ".py",
   "mimetype": "text/x-python",
   "name": "python",
   "nbconvert_exporter": "python",
   "pygments_lexer": "ipython3",
   "version": "3.12.3"
  }
 },
 "nbformat": 4,
 "nbformat_minor": 4
}
