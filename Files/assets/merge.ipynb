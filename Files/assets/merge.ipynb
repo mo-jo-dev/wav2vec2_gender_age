{
 "cells": [
  {
   "cell_type": "code",
   "execution_count": 5,
   "metadata": {},
   "outputs": [
    {
     "name": "stdout",
     "output_type": "stream",
     "text": [
      "Files merged successfully and saved to 'merged_features.csv'.\n"
     ]
    }
   ],
   "source": [
    "import pandas as pd\n",
    "\n",
    "# Load the CSV files\n",
    "features_1024 = pd.read_csv('hubert_features_test_3.csv')  # Replace with your first CSV file name\n",
    "features_26 = pd.read_csv('mfcc_features_test.csv')      # Replace with your second CSV file name\n",
    "\n",
    "# Ensure both DataFrames have the same number of rows\n",
    "if len(features_1024) != len(features_26):\n",
    "    raise ValueError(\"The two CSV files do not have the same number of rows.\")\n",
    "\n",
    "# Concatenate the DataFrames along columns\n",
    "merged_data = pd.concat([features_1024, features_26], axis=1)\n",
    "\n",
    "# Save the merged DataFrame to a new CSV file\n",
    "merged_data.to_csv('merged_features_test.csv', index=False)  # Replace with your desired output file name\n",
    "\n",
    "print(\"Files merged successfully and saved to 'merged_features.csv'.\")\n"
   ]
  }
 ],
 "metadata": {
  "kernelspec": {
   "display_name": "Python 3",
   "language": "python",
   "name": "python3"
  },
  "language_info": {
   "codemirror_mode": {
    "name": "ipython",
    "version": 3
   },
   "file_extension": ".py",
   "mimetype": "text/x-python",
   "name": "python",
   "nbconvert_exporter": "python",
   "pygments_lexer": "ipython3",
   "version": "3.12.3"
  }
 },
 "nbformat": 4,
 "nbformat_minor": 2
}
