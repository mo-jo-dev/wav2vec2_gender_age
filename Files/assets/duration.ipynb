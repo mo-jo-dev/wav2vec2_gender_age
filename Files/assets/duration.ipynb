{
 "cells": [
  {
   "cell_type": "code",
   "execution_count": 3,
   "metadata": {},
   "outputs": [
    {
     "name": "stdout",
     "output_type": "stream",
     "text": [
      "Total duration of all audio files: 3860.278499999999 seconds\n",
      "Total duration: 64 minutes and 20 seconds\n"
     ]
    }
   ],
   "source": [
    "import os\n",
    "import wave\n",
    "\n",
    "# Path to the folder containing the audio files\n",
    "folder_path = 'train_pfstar'\n",
    "\n",
    "# Read the text file containing the names of all audio files\n",
    "with open(os.path.join('path_test.txt'), 'r') as f:\n",
    "    audio_files = f.read().splitlines()\n",
    "\n",
    "total_duration = 0.0\n",
    "\n",
    "# Iterate over each file and calculate its duration\n",
    "for audio_file in audio_files:\n",
    "    file_path = os.path.join(audio_file)\n",
    "    \n",
    "    # Open the .wav file\n",
    "    with wave.open(file_path, 'r') as wav_file:\n",
    "        # Calculate duration: number of frames / frame rate\n",
    "        frames = wav_file.getnframes()\n",
    "        frame_rate = wav_file.getframerate()\n",
    "        duration = frames / float(frame_rate)\n",
    "        \n",
    "        total_duration += duration\n",
    "\n",
    "# Print the total duration in seconds\n",
    "print(f\"Total duration of all audio files: {total_duration} seconds\")\n",
    "\n",
    "# Optional: Convert to minutes and seconds for better readability\n",
    "minutes = int(total_duration // 60)\n",
    "seconds = int(total_duration % 60)\n",
    "print(f\"Total duration: {minutes} minutes and {seconds} seconds\")\n"
   ]
  }
 ],
 "metadata": {
  "kernelspec": {
   "display_name": "Python 3",
   "language": "python",
   "name": "python3"
  },
  "language_info": {
   "codemirror_mode": {
    "name": "ipython",
    "version": 3
   },
   "file_extension": ".py",
   "mimetype": "text/x-python",
   "name": "python",
   "nbconvert_exporter": "python",
   "pygments_lexer": "ipython3",
   "version": "3.12.3"
  }
 },
 "nbformat": 4,
 "nbformat_minor": 2
}
