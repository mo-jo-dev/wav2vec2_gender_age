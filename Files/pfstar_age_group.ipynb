{
 "cells": [
  {
   "cell_type": "code",
   "execution_count": 6,
   "metadata": {},
   "outputs": [
    {
     "name": "stdout",
     "output_type": "stream",
     "text": [
      "First few rows of the input data:\n",
      "                                  Name Gender  Age  Gender_bin Age_Group\n",
      "0    train_pfstar/001f12bh_digits1.wav      f   12           0     11-14\n",
      "1    train_pfstar/001f12bh_digits6.wav      f   12           0     11-14\n",
      "2     train_pfstar/001f12bh_list_1.wav      f   12           0     11-14\n",
      "3  train_pfstar/001f12bh_list_ph01.wav      f   12           0     11-14\n",
      "4  train_pfstar/001f12bh_list_ph06.wav      f   12           0     11-14\n",
      "Unique values in the Age_Group column:\n",
      "['11-14' '7-10' '4-6']\n",
      "Found 75 rows for age group 4-6 (key: 4-6)\n",
      "Saved 75 rows for age group 4-6 to age_group_4-6.csv\n",
      "Found 657 rows for age group 7-10 (key: 7-10)\n",
      "Saved 657 rows for age group 7-10 to age_group_7-10.csv\n",
      "Found 124 rows for age group 11-14 (key: 11-14)\n",
      "Saved 124 rows for age group 11-14 to age_group_11-14.csv\n"
     ]
    }
   ],
   "source": [
    "import pandas as pd\n",
    "\n",
    "# Load your CSV file\n",
    "input_file = 'y_train_age_group.csv'  # The CSV file\n",
    "df = pd.read_csv(input_file)\n",
    "\n",
    "# Column for age groups\n",
    "age_group_column = 'Age_Group'  # Updated column name\n",
    "\n",
    "# Print the first few rows of the dataframe to check data\n",
    "print(\"First few rows of the input data:\")\n",
    "print(df.head())\n",
    "\n",
    "# Check unique values in the Age_Group column to see the format of the data\n",
    "print(\"Unique values in the Age_Group column:\")\n",
    "print(df[age_group_column].unique())\n",
    "\n",
    "# Define the new age groups\n",
    "age_groups = {\n",
    "    '4-6': '4-6',    # Age group 4-6\n",
    "    '7-10': '7-10',  # Age group 7-10\n",
    "    '11-14': '11-14' # Age group 11-14\n",
    "}\n",
    "\n",
    "# Ensure the Age_Group column is a string for comparison (if necessary)\n",
    "df[age_group_column] = df[age_group_column].astype(str)\n",
    "\n",
    "# Iterate through each age group and create a separate CSV file for each\n",
    "for key, group_name in age_groups.items():\n",
    "    # Filter rows belonging to the current age group\n",
    "    group_df = df[df[age_group_column] == key]\n",
    "    \n",
    "    # Print the number of rows found for debugging\n",
    "    print(f\"Found {len(group_df)} rows for age group {group_name} (key: {key})\")\n",
    "\n",
    "    # Save the filtered rows to a new CSV file if any rows are found\n",
    "    if not group_df.empty:\n",
    "        output_file = f'age_group_{group_name}.csv'\n",
    "        group_df.to_csv(output_file, index=False)\n",
    "        print(f\"Saved {len(group_df)} rows for age group {group_name} to {output_file}\")\n",
    "    else:\n",
    "        print(f\"No data for age group {group_name} (key: {key})\")\n"
   ]
  }
 ],
 "metadata": {
  "kernelspec": {
   "display_name": "Python 3",
   "language": "python",
   "name": "python3"
  },
  "language_info": {
   "codemirror_mode": {
    "name": "ipython",
    "version": 3
   },
   "file_extension": ".py",
   "mimetype": "text/x-python",
   "name": "python",
   "nbconvert_exporter": "python",
   "pygments_lexer": "ipython3",
   "version": "3.12.3"
  }
 },
 "nbformat": 4,
 "nbformat_minor": 2
}
