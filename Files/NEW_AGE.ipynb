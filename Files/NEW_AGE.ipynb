{
 "cells": [
  {
   "cell_type": "code",
   "execution_count": 1,
   "id": "3a2d12fb",
   "metadata": {},
   "outputs": [
    {
     "name": "stderr",
     "output_type": "stream",
     "text": [
      "C:\\Python310\\lib\\site-packages\\torch\\nn\\utils\\weight_norm.py:28: UserWarning: torch.nn.utils.weight_norm is deprecated in favor of torch.nn.utils.parametrizations.weight_norm.\n",
      "  warnings.warn(\"torch.nn.utils.weight_norm is deprecated in favor of torch.nn.utils.parametrizations.weight_norm.\")\n",
      "Some weights of the model checkpoint at facebook/wav2vec2-large-960h-lv60-self were not used when initializing Wav2Vec2Model: ['lm_head.weight', 'lm_head.bias']\n",
      "- This IS expected if you are initializing Wav2Vec2Model from the checkpoint of a model trained on another task or with another architecture (e.g. initializing a BertForSequenceClassification model from a BertForPreTraining model).\n",
      "- This IS NOT expected if you are initializing Wav2Vec2Model from the checkpoint of a model that you expect to be exactly identical (initializing a BertForSequenceClassification model from a BertForSequenceClassification model).\n",
      "100%|██████████████████████████████████████████████████████████████████████████████████| 5/5 [07:03<00:00, 84.74s/it]\n"
     ]
    }
   ],
   "source": [
    "from transformers import Wav2Vec2Processor, Wav2Vec2Model\n",
    "import soundfile as sf\n",
    "import torch\n",
    "from tqdm import tqdm\n",
    "import kaldiio\n",
    "import numpy as np\n",
    "\n",
    "processor = Wav2Vec2Processor.from_pretrained(\"facebook/wav2vec2-large-960h-lv60-self\")\n",
    "model = Wav2Vec2Model.from_pretrained(\"facebook/wav2vec2-large-960h-lv60-self\")\n",
    "model.config.output_hidden_states = True\n",
    "\n",
    "target_layer = 1  \n",
    "\n",
    "device = torch.device(\"cuda\" if torch.cuda.is_available() else \"cpu\")\n",
    "model.to(device)\n",
    "\n",
    "file_path = 'path_test.txt'\n",
    "with open(file_path, 'r') as file:\n",
    "    audio_files = [line.strip() for line in file]\n",
    "\n",
    "speaker_ids = []\n",
    "layer_features = []\n",
    "\n",
    "for audio_file in tqdm(audio_files):\n",
    "    speaker_id = audio_file.split('/')[-1].split('-')[0]  # adjust based on your file path format\n",
    "    speaker_ids.append(speaker_id)\n",
    "   \n",
    "    audio_input, sample_rate = sf.read(audio_file)\n",
    "   \n",
    "    input_values = processor(audio_input, sampling_rate=sample_rate, return_tensors=\"pt\").input_values.to(device)\n",
    "   \n",
    "    with torch.no_grad():\n",
    "        outputs = model(input_values)\n",
    "   \n",
    "    all_hidden_states = outputs.hidden_states\n",
    "    layer_feature = all_hidden_states[target_layer].squeeze(0).cpu().numpy()\n",
    "\n",
    "    pooled_feature = np.mean(layer_feature, axis=0)\n",
    "   \n",
    "    layer_features.append(pooled_feature)\n",
    "\n",
    "\n",
    "np.save('pooled_features.npy', np.array(layer_features))\n",
    "np.save('speaker_ids.npy', np.array(speaker_ids))\n"
   ]
  },
  {
   "cell_type": "code",
   "execution_count": 2,
   "id": "458b4486",
   "metadata": {},
   "outputs": [
    {
     "name": "stdout",
     "output_type": "stream",
     "text": [
      "Feature size: (1024,)\n",
      "Feature size for sample 0: (1024,)\n",
      "Feature size for sample 1: (1024,)\n",
      "Feature size for sample 2: (1024,)\n",
      "Feature size for sample 3: (1024,)\n",
      "Feature size for sample 4: (1024,)\n"
     ]
    }
   ],
   "source": [
    "print(f\"Feature size: {layer_features[0].shape}\")\n",
    "\n",
    "for idx, feature in enumerate(layer_features):\n",
    "    print(f\"Feature size for sample {idx}: {feature.shape}\")\n"
   ]
  },
  {
   "cell_type": "code",
   "execution_count": null,
   "id": "70ca074f",
   "metadata": {},
   "outputs": [],
   "source": [
    "import numpy as np\n",
    "from sklearn.model_selection import train_test_split\n",
    "from sklearn.preprocessing import LabelEncoder\n",
    "from sklearn.metrics import accuracy_score, classification_report\n",
    "\n",
    "train_features = np.load('train_features.npy')\n",
    "train_labels = np.load('train_labels.npy')\n",
    "test_features = np.load('test_features.npy')\n",
    "test_labels = np.load('test_labels.npy')\n",
    "\n",
    "label_encoder = LabelEncoder()\n",
    "train_labels_encoded = label_encoder.fit_transform(train_labels)\n",
    "test_labels_encoded = label_encoder.transform(test_labels)\n"
   ]
  },
  {
   "cell_type": "code",
   "execution_count": null,
   "id": "8b4b1a86",
   "metadata": {},
   "outputs": [],
   "source": [
    "from sklearn.svm import SVC\n",
    "\n",
    "svm_model = SVC(kernel='rbf', C=10.0, gamma='scale', random_state=42)\n",
    "\n",
    "svm_model.fit(train_features, train_labels_encoded)\n",
    "\n",
    "svm_predictions = svm_model.predict(test_features)\n",
    "\n",
    "svm_accuracy = accuracy_score(test_labels_encoded, svm_predictions)\n",
    "print(f\"SVM Accuracy: {svm_accuracy:.4f}\")\n",
    "print(\"SVM Classification Report:\")\n",
    "print(classification_report(test_labels_encoded, svm_predictions, target_names=label_encoder.classes_))\n"
   ]
  },
  {
   "cell_type": "code",
   "execution_count": null,
   "id": "45a5d343",
   "metadata": {},
   "outputs": [],
   "source": [
    "import tensorflow as tf\n",
    "from tensorflow.keras.models import Sequential\n",
    "from tensorflow.keras.layers import Conv1D, MaxPooling1D, Flatten, Dense, Dropout\n",
    "\n",
    "cnn_model = Sequential([\n",
    "    Conv1D(256, kernel_size=5, activation='relu', input_shape=(train_features_cnn.shape[1], 1)),\n",
    "    MaxPooling1D(pool_size=2),\n",
    "    Conv1D(512, kernel_size=5, activation='relu'),\n",
    "    MaxPooling1D(pool_size=2),\n",
    "    Flatten(),\n",
    "    Dense(512, activation='relu'),\n",
    "    Dropout(0.5),\n",
    "    Dense(len(label_encoder.classes_), activation='softmax')\n",
    "])\n",
    "\n",
    "cnn_model.compile(optimizer='adam', loss='sparse_categorical_crossentropy', metrics=['accuracy'])\n",
    "\n",
    "cnn_model.fit(train_features_cnn, train_labels_encoded, epochs=15, batch_size=32, validation_split=0.2)\n",
    "\n",
    "cnn_test_loss, cnn_test_accuracy = cnn_model.evaluate(test_features_cnn, test_labels_encoded)\n",
    "print(f\"CNN Test Accuracy: {cnn_test_accuracy:.4f}\")\n"
   ]
  },
  {
   "cell_type": "code",
   "execution_count": null,
   "id": "e19448cf",
   "metadata": {},
   "outputs": [],
   "source": [
    "from tensorflow.keras.models import Sequential\n",
    "from tensorflow.keras.layers import Dense, Dropout\n",
    "\n",
    "# Define the updated ANN model with more complexity\n",
    "ann_model = Sequential([\n",
    "    Dense(512, activation='relu', input_shape=(train_features.shape[1],)),\n",
    "    Dropout(0.5),\n",
    "    Dense(512, activation='relu'),\n",
    "    Dropout(0.5),\n",
    "    Dense(256, activation='relu'),\n",
    "    Dropout(0.5),\n",
    "    Dense(len(label_encoder.classes_), activation='softmax')\n",
    "])\n",
    "\n",
    "ann_model.compile(optimizer='adam', loss='sparse_categorical_crossentropy', metrics=['accuracy'])\n",
    "\n",
    "ann_model.fit(train_features, train_labels_encoded, epochs=15, batch_size=32, validation_split=0.2)\n",
    "\n",
    "ann_test_loss, ann_test_accuracy = ann_model.evaluate(test_features, test_labels_encoded)\n",
    "print(f\"ANN Test Accuracy: {ann_test_accuracy:.4f}\")\n"
   ]
  }
 ],
 "metadata": {
  "kernelspec": {
   "display_name": "Python 3 (ipykernel)",
   "language": "python",
   "name": "python3"
  },
  "language_info": {
   "codemirror_mode": {
    "name": "ipython",
    "version": 3
   },
   "file_extension": ".py",
   "mimetype": "text/x-python",
   "name": "python",
   "nbconvert_exporter": "python",
   "pygments_lexer": "ipython3",
   "version": "3.12.3"
  }
 },
 "nbformat": 4,
 "nbformat_minor": 5
}
