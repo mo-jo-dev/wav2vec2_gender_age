{
 "cells": [
  {
   "cell_type": "code",
   "execution_count": 1,
   "id": "41868261-6ac2-43f4-8b97-2e67ba7c1482",
   "metadata": {},
   "outputs": [
    {
     "name": "stderr",
     "output_type": "stream",
     "text": [
      "/usr/lib/python3/dist-packages/scipy/__init__.py:146: UserWarning: A NumPy version >=1.17.3 and <1.25.0 is required for this version of SciPy (detected version 1.26.4\n",
      "  warnings.warn(f\"A NumPy version >={np_minversion} and <{np_maxversion}\"\n",
      "Loading features from SCP: 856it [00:10, 82.85it/s] \n"
     ]
    },
    {
     "name": "stdout",
     "output_type": "stream",
     "text": [
      "Loaded 856 feature entries fromlayer_22_features_train the SCP file.\n"
     ]
    },
    {
     "name": "stderr",
     "output_type": "stream",
     "text": [
      "Processing labels: 100%|██████████| 856/856 [00:00<00:00, 1490.14it/s]\n"
     ]
    },
    {
     "name": "stdout",
     "output_type": "stream",
     "text": [
      "Final data contains 856 samples with 1024 features each.\n"
     ]
    },
    {
     "name": "stderr",
     "output_type": "stream",
     "text": [
      "Loading features from SCP: 129it [00:01, 125.68it/s]\n"
     ]
    },
    {
     "name": "stdout",
     "output_type": "stream",
     "text": [
      "Loaded 129 feature entries fromlayer_22_features_train the SCP file.\n"
     ]
    },
    {
     "name": "stderr",
     "output_type": "stream",
     "text": [
      "Processing labels: 100%|██████████| 129/129 [00:00<00:00, 2202.04it/s]"
     ]
    },
    {
     "name": "stdout",
     "output_type": "stream",
     "text": [
      "Final data contains 129 samples with 1024 features each.\n",
      "              precision    recall  f1-score   support\n",
      "\n",
      "           4       0.00      0.00      0.00         2\n",
      "           6       0.71      0.83      0.77        12\n",
      "           7       0.86      0.75      0.80         8\n",
      "           8       0.83      0.97      0.89        39\n",
      "           9       1.00      0.83      0.91         6\n",
      "          10       0.84      0.90      0.87        42\n",
      "          11       1.00      0.50      0.67        16\n",
      "          12       1.00      1.00      1.00         2\n",
      "          13       1.00      0.50      0.67         2\n",
      "          14       0.00      0.00      0.00         0\n",
      "\n",
      "    accuracy                           0.84       129\n",
      "   macro avg       0.72      0.63      0.66       129\n",
      "weighted avg       0.85      0.84      0.83       129\n",
      "\n"
     ]
    },
    {
     "name": "stderr",
     "output_type": "stream",
     "text": [
      "\n",
      "/home/mojo/.local/lib/python3.10/site-packages/sklearn/metrics/_classification.py:1509: UndefinedMetricWarning: Precision is ill-defined and being set to 0.0 in labels with no predicted samples. Use `zero_division` parameter to control this behavior.\n",
      "  _warn_prf(average, modifier, f\"{metric.capitalize()} is\", len(result))\n",
      "/home/mojo/.local/lib/python3.10/site-packages/sklearn/metrics/_classification.py:1509: UndefinedMetricWarning: Recall is ill-defined and being set to 0.0 in labels with no true samples. Use `zero_division` parameter to control this behavior.\n",
      "  _warn_prf(average, modifier, f\"{metric.capitalize()} is\", len(result))\n",
      "/home/mojo/.local/lib/python3.10/site-packages/sklearn/metrics/_classification.py:1509: UndefinedMetricWarning: Precision is ill-defined and being set to 0.0 in labels with no predicted samples. Use `zero_division` parameter to control this behavior.\n",
      "  _warn_prf(average, modifier, f\"{metric.capitalize()} is\", len(result))\n",
      "/home/mojo/.local/lib/python3.10/site-packages/sklearn/metrics/_classification.py:1509: UndefinedMetricWarning: Recall is ill-defined and being set to 0.0 in labels with no true samples. Use `zero_division` parameter to control this behavior.\n",
      "  _warn_prf(average, modifier, f\"{metric.capitalize()} is\", len(result))\n",
      "/home/mojo/.local/lib/python3.10/site-packages/sklearn/metrics/_classification.py:1509: UndefinedMetricWarning: Precision is ill-defined and being set to 0.0 in labels with no predicted samples. Use `zero_division` parameter to control this behavior.\n",
      "  _warn_prf(average, modifier, f\"{metric.capitalize()} is\", len(result))\n",
      "/home/mojo/.local/lib/python3.10/site-packages/sklearn/metrics/_classification.py:1509: UndefinedMetricWarning: Recall is ill-defined and being set to 0.0 in labels with no true samples. Use `zero_division` parameter to control this behavior.\n",
      "  _warn_prf(average, modifier, f\"{metric.capitalize()} is\", len(result))\n"
     ]
    }
   ],
   "source": [
    "import kaldiio\n",
    "import numpy as np\n",
    "import pandas as pd\n",
    "from sklearn.svm import SVC\n",
    "from sklearn.preprocessing import StandardScaler\n",
    "from sklearn.pipeline import make_pipeline\n",
    "from sklearn.metrics import classification_report\n",
    "from tqdm import tqdm\n",
    "from sklearn.metrics import confusion_matrix\n",
    "\n",
    "# Paths to your SCP and CSV files\n",
    "train_scp_path = '../Files/layer_train_features/layer_0_features_train.scp'\n",
    "train_labels_csv_path = '../Files/y_train.csv'\n",
    "test_scp_path = '../Files/layer_test_features/layer_0_features_test.scp'\n",
    "test_labels_csv_path = '../Files/y_test.csv'\n",
    "\n",
    "# Function to load features from an SCP file and corresponding labels from a CSV\n",
    "def load_data(scp_path, labels_csv_path, is_training=True):\n",
    "    # Load features from SCP file\n",
    "    features_dict = {}\n",
    "    with kaldiio.ReadHelper(f'scp:{scp_path}') as reader:\n",
    "        for key, numpy_array in tqdm(reader, desc='Loading features from SCP'):\n",
    "            features_dict[key] = numpy_array\n",
    "\n",
    "    print(f\"Loaded {len(features_dict)} feature entries fromlayer_22_features_train the SCP file.\")\n",
    "\n",
    "    # Load labels from CSV file\n",
    "    labels_df = pd.read_csv(labels_csv_path)\n",
    "\n",
    "    # Process labels based on whether it's training or testing data\n",
    "    if is_training:\n",
    "        # Remove 'train_pfstar/' for training data\n",
    "        names = labels_df['Name'].str.replace('train_pfstar/', '').str.replace('.wav', '').values\n",
    "    else:\n",
    "        # Remove 'test_pfstar/' for testing data\n",
    "        names = labels_df['Name'].str.replace('test_pfstar/', '').str.replace('.wav', '').values\n",
    "\n",
    "    ages = labels_df['Age'].values\n",
    "\n",
    "    X = []\n",
    "    y = []\n",
    "\n",
    "    # Using tqdm to monitor progress\n",
    "    for name, age in tqdm(zip(names, ages), total=len(names), desc='Processing labels'):\n",
    "        if name in features_dict:\n",
    "            # Extract mean features as global features\n",
    "            mean_features = np.mean(features_dict[name], axis=0)\n",
    "            X.append(mean_features)\n",
    "            y.append(age)\n",
    "        else:\n",
    "            print(f\"Warning: {name} not found in SCP file.\")\n",
    "\n",
    "    # Convert to numpy arrays\n",
    "    X = np.array(X)\n",
    "    y = np.array(y)\n",
    "\n",
    "    print(f\"Final data contains {X.shape[0]} samples with {X.shape[1]} features each.\")\n",
    "\n",
    "    return X, y\n",
    "\n",
    "# Load training data\n",
    "X_train, y_train = load_data(train_scp_path, train_labels_csv_path, is_training=True)\n",
    "\n",
    "# Check if training data is loaded correctly\n",
    "if X_train.size == 0 or y_train.size == 0:\n",
    "    raise ValueError(\"Training data was not loaded correctly. Please check the SCP and label files.\")\n",
    "\n",
    "# Load testing data\n",
    "X_test, y_test = load_data(test_scp_path, test_labels_csv_path, is_training=False)\n",
    "\n",
    "# Check if testing data is loaded correctly\n",
    "if X_test.size == 0 or y_test.size == 0:\n",
    "    raise ValueError(\"Testing data was not loaded correctly. Please check the SCP and label files.\")\n",
    "\n",
    "# Create an SVM pipeline with scaling\n",
    "svm_model = make_pipeline(StandardScaler(), SVC(kernel='linear'))\n",
    "\n",
    "# Train the SVM model\n",
    "svm_model.fit(X_train, y_train)\n",
    "\n",
    "# Test the SVM model\n",
    "y_pred = svm_model.predict(X_test)\n",
    "\n",
    "# Print classification report\n",
    "print(classification_report(y_test, y_pred))\n"
   ]
  },
  {
   "cell_type": "code",
   "execution_count": 2,
   "id": "dc252d5b",
   "metadata": {},
   "outputs": [
    {
     "data": {
      "image/png": "[encoded data removed]",
      "text/plain": [
       "<Figure size 432x288 with 2 Axes>"
      ]
     },
     "metadata": {
      "needs_background": "light"
     },
     "output_type": "display_data"
    }
   ],
   "source": [
    "import matplotlib.pyplot as plt\n",
    "from sklearn.metrics import ConfusionMatrixDisplay\n",
    "cm = confusion_matrix(y_test, y_pred)\n",
    "disp = ConfusionMatrixDisplay(confusion_matrix = cm, display_labels=svm_model.classes_)\n",
    "disp.plot()\n",
    "plt.show()"
   ]
  }
 ],
 "metadata": {
  "kernelspec": {
   "display_name": "Python 3 (ipykernel)",
   "language": "python",
   "name": "python3"
  },
  "language_info": {
   "codemirror_mode": {
    "name": "ipython",
    "version": 3
   },
   "file_extension": ".py",
   "mimetype": "text/x-python",
   "name": "python",
   "nbconvert_exporter": "python",
   "pygments_lexer": "ipython3",
   "version": "3.10.12"
  }
 },
 "nbformat": 4,
 "nbformat_minor": 5
}
